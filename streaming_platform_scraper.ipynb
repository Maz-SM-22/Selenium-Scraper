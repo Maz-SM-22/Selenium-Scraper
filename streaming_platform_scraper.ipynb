{
 "cells": [
  {
   "cell_type": "code",
   "execution_count": 67,
   "metadata": {},
   "outputs": [],
   "source": [
    "from selenium import webdriver\n",
    "from selenium.webdriver.common.keys import Keys\n",
    "from selenium.webdriver.chrome.options import Options\n",
    "from selenium.webdriver.support.ui import WebDriverWait\n",
    "import time\n",
    "import re\n",
    "import pandas as pd\n",
    "pd.set_option('display.max_colwidth', 500)\n",
    "import random"
   ]
  },
  {
   "cell_type": "code",
   "execution_count": 3,
   "metadata": {},
   "outputs": [],
   "source": [
    "CHROMEDRIVER_PATH = r'C:\\Users\\Maria\\chromedriver\\chromedriver.exe'\n",
    "streaming_url = 'https://www.pelitorrent.com/'\n",
    "search_keyword = 'rey'"
   ]
  },
  {
   "cell_type": "code",
   "execution_count": 58,
   "metadata": {},
   "outputs": [],
   "source": [
    "class Search_Results_Scraper: \n",
    "    def __init__(self, url): \n",
    "        self.url = url \n",
    "        self.results = []\n",
    "    def get_results_page(self):\n",
    "        driver = webdriver.Chrome(executable_path=CHROMEDRIVER_PATH)\n",
    "        driver.get(self.url)\n",
    "        search_bar = driver.find_element_by_id('tr_live_search')\n",
    "        search_bar.send_keys(search_keyword)\n",
    "        search_bar.send_keys(Keys.RETURN)\n",
    "        time.sleep(3)\n",
    "        driver.switch_to.window(driver.window_handles[-1])\n",
    "        time.sleep(2)\n",
    "        current_url = driver.current_url\n",
    "        driver.quit()\n",
    "        return current_url\n",
    "    def get_search_results(self):      \n",
    "        search_results = {}\n",
    "        driver = webdriver.Chrome(executable_path=CHROMEDRIVER_PATH)\n",
    "        driver.get(self.get_results_page())\n",
    "        entries = driver.find_elements_by_xpath('//ul[contains(@class, \"post-lst\")]//article[@class=\"post dfx fcl movies\"]')\n",
    "        for entry in entries: \n",
    "            entry_url = entry.find_element_by_class_name('lnk-blk').get_attribute('href')\n",
    "            entry_title = entry.find_element_by_class_name('entry-title').text\n",
    "            if search_keyword in entry_title.lower(): \n",
    "                self.results.append(entry_url)\n",
    "                search_results[entry_title] = entry_url\n",
    "        next_page_link = driver.find_element_by_link_text('SIGUIENTE')\n",
    "        try:\n",
    "            next_page_link.click()\n",
    "            time.sleep(3)\n",
    "            next_page = driver.current_url \n",
    "            get_search_results(next_page)\n",
    "        except: \n",
    "            print('No further results for this search term could be found')\n",
    "            driver.quit()\n",
    "        finally: \n",
    "            driver.quit()\n",
    "            print('Your search term has found the following results:')\n",
    "            print(pd.DataFrame.from_dict(search_results, orient='index', columns=['url']))\n",
    "        return "
   ]
  },
  {
   "cell_type": "code",
   "execution_count": 57,
   "metadata": {},
   "outputs": [
    {
     "name": "stdout",
     "output_type": "stream",
     "text": [
      "No further results for this search term could be found\n",
      "Your search term has found the following results:\n",
      "Empty DataFrame\n",
      "Columns: [url]\n",
      "Index: []\n",
      "Your search term has found the following results:\n",
      "Empty DataFrame\n",
      "Columns: [url]\n",
      "Index: []\n",
      "Your search term has found the following results:\n",
      "Empty DataFrame\n",
      "Columns: [url]\n",
      "Index: []\n",
      "Your search term has found the following results:\n",
      "Empty DataFrame\n",
      "Columns: [url]\n",
      "Index: []\n",
      "Your search term has found the following results:\n",
      "Empty DataFrame\n",
      "Columns: [url]\n",
      "Index: []\n",
      "Your search term has found the following results:\n",
      "                                                                    url\n",
      "El rey del Once       https://www.pelitorrent.com/movies/el-rey-del-...\n",
      "El rey de los belgas  https://www.pelitorrent.com/movies/el-rey-de-l...\n",
      "Esperando al Rey      https://www.pelitorrent.com/movies/esperando-a...\n",
      "El rey de la polca    https://www.pelitorrent.com/movies/el-rey-de-l...\n",
      "La decisión del rey   https://www.pelitorrent.com/movies/la-decision...\n",
      "Your search term has found the following results:\n",
      "                                                                                                  url\n",
      "Un rey para cuatro reinas                           https://www.pelitorrent.com/movies/un-rey-para...\n",
      "El rey de Zamunda                                   https://www.pelitorrent.com/movies/el-rey-de-z...\n",
      "El Rey de Escocia                                   https://www.pelitorrent.com/movies/el-rey-de-e...\n",
      "El rey de Nueva York                                https://www.pelitorrent.com/movies/el-rey-de-n...\n",
      "El rey del barrio                                   https://www.pelitorrent.com/movies/el-rey-del-...\n",
      "Greyhound: Enemigos bajo el mar                     https://www.pelitorrent.com/movies/greyhound-e...\n",
      "The Prey                                                 https://www.pelitorrent.com/movies/the-prey/\n",
      "El rey Burro                                         https://www.pelitorrent.com/movies/el-rey-burro/\n",
      "Berserk. La edad de oro I: El huevo del rey con...  https://www.pelitorrent.com/movies/berserk-la-...\n",
      "Tadeo Jones 2: El secreto del rey Midas             https://www.pelitorrent.com/movies/tadeo-jones...\n",
      "El creyente                                           https://www.pelitorrent.com/movies/el-creyente/\n",
      "El Rey León                                         https://www.pelitorrent.com/movies/el-rey-leon-2/\n",
      "Godzilla: Rey de los monstruos                      https://www.pelitorrent.com/movies/godzilla-re...\n",
      "Un pueblo y su rey                                  https://www.pelitorrent.com/movies/un-pueblo-y...\n",
      "El niño que pudo ser rey                            https://www.pelitorrent.com/movies/the-kid-who...\n",
      "Rey de ladrones                                     https://www.pelitorrent.com/movies/rey-de-ladr...\n",
      "El rey                                                     https://www.pelitorrent.com/movies/el-rey/\n",
      "Mirreyes contra Godínez                             https://www.pelitorrent.com/movies/mirreyes-co...\n",
      "El Anillo Del Rey                                   https://www.pelitorrent.com/movies/el-anillo-d...\n",
      "El último rey                                       https://www.pelitorrent.com/movies/el-ultimo-rey/\n",
      "El Rey Escorpión: El Libro de las Almas             https://www.pelitorrent.com/movies/el-rey-esco...\n",
      "El rey proscrito                                    https://www.pelitorrent.com/movies/el-rey-pros...\n",
      "El Rey de La Habana                                 https://www.pelitorrent.com/movies/el-rey-de-l...\n",
      "El rey león                                           https://www.pelitorrent.com/movies/el-rey-leon/\n"
     ]
    }
   ],
   "source": [
    "results_scraper = Search_Results_Scraper(streaming_url)\n",
    "results_scraper.get_search_results()"
   ]
  },
  {
   "cell_type": "code",
   "execution_count": null,
   "metadata": {},
   "outputs": [],
   "source": [
    "search_results = Search_Results_Scraper()\n",
    "results = search_results.get_search_results()"
   ]
  },
  {
   "cell_type": "code",
   "execution_count": 35,
   "metadata": {},
   "outputs": [],
   "source": [
    "def generate_random_url(): \n",
    "    random_index = random.randint(0, len(results_scraper.results))\n",
    "    return results_scraper.results[random_index]"
   ]
  },
  {
   "cell_type": "code",
   "execution_count": 36,
   "metadata": {},
   "outputs": [
    {
     "data": {
      "text/plain": [
       "'https://www.pelitorrent.com/movies/el-rey-de-escocia/'"
      ]
     },
     "execution_count": 36,
     "metadata": {},
     "output_type": "execute_result"
    }
   ],
   "source": [
    "generate_random_url()"
   ]
  },
  {
   "cell_type": "code",
   "execution_count": 70,
   "metadata": {},
   "outputs": [],
   "source": [
    "def get_link_info(url):\n",
    "    driver = webdriver.Chrome(executable_path=CHROMEDRIVER_PATH)\n",
    "    driver.get(url)\n",
    "    movie_title = driver.find_element_by_xpath('//h1').text\n",
    "    movie_duration = driver.find_element_by_xpath('//span[@class=\"duration fa-clock far\"]').text\n",
    "    movie_poster_image_url = driver.find_element_by_xpath('//div[@class=\"post-thumbnail alg-ss\"]//img').get_attribute('src')\n",
    "    director = driver.find_element_by_xpath('//span[text()=\"Director\"]/following-sibling::p/a').text\n",
    "    director_url = driver.find_element_by_xpath('//span[text()=\"Director\"]/following-sibling::p/a').get_attribute('href')\n",
    "    cast_members = [element.text for element in driver.find_elements_by_xpath('//span[text()=\"Actores\"]/following-sibling::p/a')]\n",
    "    download_button = driver.find_element_by_xpath('//button[@data-mdl=\"mdl-download\"]/span')\n",
    "    time.sleep(5)\n",
    "    download_button.click()\n",
    "    time.sleep(5)\n",
    "    download_info = driver.find_elements_by_xpath('//div[@class=\"download-links\"]//tbody/tr/td')\n",
    "    download_link_language = download_info[1].text\n",
    "    download_link_quality = download_info[2].text\n",
    "    download_link = driver.find_element_by_xpath('//a[@class=\"btn sm rnd blk\"]').get_attribute('href')    \n",
    "    driver.quit()\n",
    "    print('Download link and info for your requested movie page:')\n",
    "    return pd.DataFrame.from_dict(locals(), orient='index', columns=['movie_info']).drop(\n",
    "        index=['driver', 'download_button', 'download_info']\n",
    "    )"
   ]
  },
  {
   "cell_type": "code",
   "execution_count": 71,
   "metadata": {},
   "outputs": [
    {
     "name": "stdout",
     "output_type": "stream",
     "text": [
      "Download link and info for your requested movie page:\n"
     ]
    },
    {
     "data": {
      "text/html": [
       "<div>\n",
       "<style scoped>\n",
       "    .dataframe tbody tr th:only-of-type {\n",
       "        vertical-align: middle;\n",
       "    }\n",
       "\n",
       "    .dataframe tbody tr th {\n",
       "        vertical-align: top;\n",
       "    }\n",
       "\n",
       "    .dataframe thead th {\n",
       "        text-align: right;\n",
       "    }\n",
       "</style>\n",
       "<table border=\"1\" class=\"dataframe\">\n",
       "  <thead>\n",
       "    <tr style=\"text-align: right;\">\n",
       "      <th></th>\n",
       "      <th>movie_info</th>\n",
       "    </tr>\n",
       "  </thead>\n",
       "  <tbody>\n",
       "    <tr>\n",
       "      <th>url</th>\n",
       "      <td>https://www.pelitorrent.com/movies/the-kid-who-would-be-king/</td>\n",
       "    </tr>\n",
       "    <tr>\n",
       "      <th>movie_title</th>\n",
       "      <td>El niño que pudo ser rey</td>\n",
       "    </tr>\n",
       "    <tr>\n",
       "      <th>movie_duration</th>\n",
       "      <td>2h 0m</td>\n",
       "    </tr>\n",
       "    <tr>\n",
       "      <th>movie_poster_image_url</th>\n",
       "      <td>https://www.pelitorrent.com/wp-content/uploads/2019/04/nacido-para-ser-rey-31830-poster-215x320.jpg</td>\n",
       "    </tr>\n",
       "    <tr>\n",
       "      <th>director</th>\n",
       "      <td>Joe Cornish</td>\n",
       "    </tr>\n",
       "    <tr>\n",
       "      <th>director_url</th>\n",
       "      <td>https://www.pelitorrent.com/director/joe-cornish/</td>\n",
       "    </tr>\n",
       "    <tr>\n",
       "      <th>cast_members</th>\n",
       "      <td>[Amir Wilson, Angus Imrie, Connor Wolf, Denise Gough, Jag Patel]</td>\n",
       "    </tr>\n",
       "    <tr>\n",
       "      <th>download_link_language</th>\n",
       "      <td>Español</td>\n",
       "    </tr>\n",
       "    <tr>\n",
       "      <th>download_link_quality</th>\n",
       "      <td>BluRayRip</td>\n",
       "    </tr>\n",
       "    <tr>\n",
       "      <th>download_link</th>\n",
       "      <td>https://www.pelitorrent.com/?trdownload=3&amp;trid=31830</td>\n",
       "    </tr>\n",
       "  </tbody>\n",
       "</table>\n",
       "</div>"
      ],
      "text/plain": [
       "                                                                                                                 movie_info\n",
       "url                                                           https://www.pelitorrent.com/movies/the-kid-who-would-be-king/\n",
       "movie_title                                                                                        El niño que pudo ser rey\n",
       "movie_duration                                                                                                        2h 0m\n",
       "movie_poster_image_url  https://www.pelitorrent.com/wp-content/uploads/2019/04/nacido-para-ser-rey-31830-poster-215x320.jpg\n",
       "director                                                                                                        Joe Cornish\n",
       "director_url                                                              https://www.pelitorrent.com/director/joe-cornish/\n",
       "cast_members                                               [Amir Wilson, Angus Imrie, Connor Wolf, Denise Gough, Jag Patel]\n",
       "download_link_language                                                                                              Español\n",
       "download_link_quality                                                                                             BluRayRip\n",
       "download_link                                                          https://www.pelitorrent.com/?trdownload=3&trid=31830"
      ]
     },
     "execution_count": 71,
     "metadata": {},
     "output_type": "execute_result"
    }
   ],
   "source": [
    "get_link_info(generate_random_url())"
   ]
  },
  {
   "cell_type": "code",
   "execution_count": null,
   "metadata": {},
   "outputs": [],
   "source": []
  },
  {
   "cell_type": "code",
   "execution_count": null,
   "metadata": {},
   "outputs": [],
   "source": []
  },
  {
   "cell_type": "code",
   "execution_count": null,
   "metadata": {},
   "outputs": [],
   "source": []
  },
  {
   "cell_type": "code",
   "execution_count": null,
   "metadata": {},
   "outputs": [],
   "source": []
  },
  {
   "cell_type": "code",
   "execution_count": null,
   "metadata": {},
   "outputs": [],
   "source": []
  },
  {
   "cell_type": "code",
   "execution_count": null,
   "metadata": {},
   "outputs": [],
   "source": []
  },
  {
   "cell_type": "code",
   "execution_count": null,
   "metadata": {},
   "outputs": [],
   "source": []
  },
  {
   "cell_type": "code",
   "execution_count": null,
   "metadata": {},
   "outputs": [],
   "source": []
  }
 ],
 "metadata": {
  "kernelspec": {
   "display_name": "Python 3",
   "language": "python",
   "name": "python3"
  },
  "language_info": {
   "codemirror_mode": {
    "name": "ipython",
    "version": 3
   },
   "file_extension": ".py",
   "mimetype": "text/x-python",
   "name": "python",
   "nbconvert_exporter": "python",
   "pygments_lexer": "ipython3",
   "version": "3.8.1"
  }
 },
 "nbformat": 4,
 "nbformat_minor": 4
}
